
import random
import time
import matplotlib.pyplot as plt
import networkx as nx  # exibição dos grafos
from collections import deque

# define estrutura grafos
class Grafo:
    def __init__(self, direcionado=False):
        """
        Inicializa um grafo, podendo ser direcionado ou não.
        """
        self.grafo = {}  # representação linha adjacente
        self.direcionado = direcionado  # define caso grafo direcionado

    def adicionar_vertice(self, vertice):
        """
        Adiciona um vértice ao grafo.
        """
        if vertice not in self.grafo:
            self.grafo[vertice] = []

    def adicionar_aresta(self, u, v):
        """
        Adiciona uma aresta entre os vértices u e v.
        """
        self.adicionar_vertice(u)
        self.adicionar_vertice(v)
        self.grafo[u].append(v)  # v adicionado lista djacente u
        if not self.direcionado:  # aresta inversa cas grafo não direcionado
            self.grafo[v].append(u)

    def bfs(self, inicio):
        """
        Algoritmo de Busca em Largura (BFS).
        """
        visitados = set()  #vertices vistantes
        fila = deque([inicio])  # fila, ordem de visitação
        ordem = []  #visitação vertices

        while fila:
            vertice = fila.popleft()  # remove primeiro fila vertice
            if vertice not in visitados:  # visita apenas vertices não visitados
                visitados.add(vertice)
                ordem.append(vertice)  #adiciona ordem visitação
                # fila vizinhos não visitados
                fila.extend([vizinho for vizinho in self.grafo[vertice] if vizinho not in visitados])

        return ordem

    def dfs(self, inicio, visitados=None):
        """
        Algoritmo de Busca em Profundidade (DFS).
        """
        if visitados is None:
            visitados = set()
        visitados.add(inicio)  # marca como visitado., vertice
        ordem = [inicio]  # adiciona vertices ordem visitação

        for vizinho in self.grafo[inicio]:  # recursivo visitos
            if vizinho not in visitados:
                ordem.extend(self.dfs(vizinho, visitados))  # Aordem vizinhos visitados

        return ordem

    def exibir_grafo(self):
        """
        Exibe o grafo visualmente usando NetworkX e Matplotlib.
        """
        G = nx.DiGraph() if self.direcionado else nx.Graph()  #define tipo de grafo
        for vertice, vizinhos in self.grafo.items():
            for vizinho in vizinhos:
                G.add_edge(vertice, vizinho)  # adc arestas

        pos = nx.spring_layout(G)  # posicionar vertices
        plt.figure(figsize=(8, 6))
        nx.draw(G, pos, with_labels=True, node_color='lightblue', edge_color='gray', node_size=500, font_size=10)
        plt.title("Representação Visual do Grafo")
        plt.show()

#gerar grafos aleatorios
def gerar_grafo_aleatorio(num_vertices, num_arestas, direcionado=False):
    """
    Gera um grafo aleatório com um número definido de vértices e arestas.
    """
    grafo = Grafo(direcionado)
    for _ in range(num_arestas):
        u = random.randint(0, num_vertices - 1)
        v = random.randint(0, num_vertices - 1)
        grafo.adicionar_aresta(u, v)
    return grafo

# medir tempo de execução das funções
def medir_tempo(func, *args):
    """
    Mede o tempo de execução de uma função.
    """
    inicio = time.time()
    resultado = func(*args)
    fim = time.time()
    return fim - inicio, resultado

# comparar BFS e DFS
def comparar_bfs_dfs(grafo, inicio):
    """
    Compara os algoritmos BFS e DFS, exibindo a ordem de visitação e o tempo de execução.
    """
    tempo_bfs, ordem_bfs = medir_tempo(grafo.bfs, inicio)
    tempo_dfs, ordem_dfs = medir_tempo(grafo.dfs, inicio)

    print(f"\nResultados no grafo fornecido:")
    print(f"BFS: Ordem de visitação: {ordem_bfs}, Tempo: {tempo_bfs:.6f}s")
    print(f"DFS: Ordem de visitação: {ordem_dfs}, Tempo: {tempo_dfs:.6f}s")

# testes automaticos
def executar_testes_automaticos():
    """
    Executa testes de desempenho em grafos aleatórios.
    """
    tamanhos = [10, 50, 100, 500, 1000]  # tamanho grafos
    resultados_bfs = []
    resultados_dfs = []

    for tamanho in tamanhos:
        num_arestas = tamanho * 2  # media arestas para cada tamanho
        grafo = gerar_grafo_aleatorio(tamanho, num_arestas)

        tempo_bfs, _ = medir_tempo(grafo.bfs, 0)  # BFS
        resultados_bfs.append(tempo_bfs)

        tempo_dfs, _ = medir_tempo(grafo.dfs, 0)  # DFS
        resultados_dfs.append(tempo_dfs)

    # exibe resultados
    plt.figure(figsize=(10, 6))
    plt.plot(tamanhos, resultados_bfs, label="BFS", marker='o')
    plt.plot(tamanhos, resultados_dfs, label="DFS", marker='o')
    plt.title("Comparação de Desempenho: BFS vs DFS (Testes Automáticos)")
    plt.xlabel("Número de vértices")
    plt.ylabel("Tempo de execução (segundos)")
    plt.legend()
    plt.grid()
    plt.show()

# menu principal
def menu():
    """
    Exibe o menu principal.
    """
    print("\n=== Construção e Testes de Grafos ===")
    print("1. Inserir grafo manualmente")
    print("2. Gerar grafo aleatório")
    print("3. Exibir grafo atual")
    print("4. Comparar BFS e DFS em grafo atual")
    print("5. Executar testes automáticos de desempenho")
    print("0. Sair")

    escolha = int(input("Escolha uma opção: "))
    return escolha

# loop programa
if __name__ == "__main__":
    grafo = None  # grafo vazio

    while True:
        escolha = menu()

        if escolha == 1:
            # grafo manual
            grafo = Grafo(direcionado=False)
            print("Insira arestas no formato 'u v'. Digite 'fim' para terminar.")
            while True:
                entrada = input("Aresta (ou 'fim'): ")
                if entrada.lower() == "fim":
                    break
                try:
                    u, v = map(int, entrada.split())
                    grafo.adicionar_aresta(u, v)
                except ValueError:
                    print("Entrada inválida. Insira dois números inteiros separados por espaço.")

        elif escolha == 2:
            # grafos aleatorios
            num_vertices = int(input("Número de vértices: "))
            num_arestas = int(input("Número de arestas: "))
            direcionado = input("O grafo é direcionado? (s/n): ").lower() == 's'

            grafo = gerar_grafo_aleatorio(num_vertices, num_arestas, direcionado)
            print(f"Grafo aleatório gerado com {num_vertices} vértices e {num_arestas} arestas.")

        elif escolha == 3:
            # grafo atual
            if grafo is None:
                print("Nenhum grafo disponível. Primeiro insira ou gere um grafo.")
            else:
                grafo.exibir_grafo()

        elif escolha == 4:
            # comparar BFS e DFS
            if grafo is None:
                print("Nenhum grafo disponível. Primeiro insira ou gere um grafo.")
            else:
                inicio = int(input("Digite o vértice inicial para BFS e DFS: "))
                comparar_bfs_dfs(grafo, inicio)

        elif escolha == 5:
            # executa teste automaticos
            executar_testes_automaticos()

        elif escolha == 0:
            # sair
            print("Encerrando o programa...")
            break

        else:
            # erro
            print("Opção inválida. Tente novamente.")
